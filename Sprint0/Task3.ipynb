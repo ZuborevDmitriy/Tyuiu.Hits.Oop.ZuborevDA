{
 "cells": [
  {
   "cell_type": "markdown",
   "metadata": {},
   "source": [
    "<h1 style=\"color:DodgerBlue\">Индивидальный проект</h1>"
   ]
  },
  {
   "cell_type": "markdown",
   "metadata": {},
   "source": [
    "<h2 style=\"color:DodgerBlue\">Название проекта:</h2>\n",
    "\n",
    "----\n",
    "\n",
    "### Вариант задания 6\n"
   ]
  },
  {
   "cell_type": "markdown",
   "metadata": {},
   "source": [
    "<h2 style=\"color:DodgerBlue\">Описание проекта:</h2>\n",
    "\n",
    "----\n",
    "\n",
    "Описание задачи:\n",
    "Создать базовый класс Movie в C#, который будет представлять информацию о\n",
    "фильмах. На основе этого класса разработать 2-3 производных класса,\n",
    "демонстрирующих принципы наследования и полиморфизма. В каждом из классов\n",
    "должны быть реализованы новые атрибуты и методы, а также переопределены\n",
    "некоторые методы базового класса для демонстрации полиморфизма.\n",
    "Требования к базовому классу Movie:\n",
    "• Атрибуты: Название (Title), Режиссер (Director), Год выпуска (ReleaseYear).\n",
    "• Методы:\n",
    "GetInfo(): метод для получения информации о фильме в виде строки.\n",
    "Watch(): метод для вывода сообщения о просмотре фильма.\n",
    "Rate(): метод для оценки фильма.\n",
    "Требования к производным классам:\n",
    "1. Документальный фильм (Documentary): Должен содержать дополнительные\n",
    "атрибуты, такие как Тематика (Theme). Метод Watch() должен быть\n",
    "переопределен для добавления информации о тематике при просмотре\n",
    "документального фильма.\n",
    "2. Игровой фильм (FeatureFilm): Должен содержать дополнительные атрибуты,\n",
    "такие как Жанр (Genre). Метод Rate() должен быть переопределен для\n",
    "добавления логики оценки в зависимости от жанра.\n",
    "3. Анимационный фильм (AnimatedMovie) (если требуется третий класс):\n",
    "Должен содержать дополнительные атрибуты, такие как Студия анимации\n",
    "(AnimationStudio). Метод GetInfo() должен быть переопределен для\n",
    "включения информации о студии анимации в описании фильма.\n"
   ]
  },
  {
   "cell_type": "markdown",
   "metadata": {},
   "source": [
    "<h2 style=\"color:DodgerBlue\">Реализация:</h2>\n",
    "\n",
    "----"
   ]
  },
  {
   "cell_type": "code",
   "execution_count": 11,
   "metadata": {
    "dotnet_interactive": {
     "language": "csharp"
    },
    "polyglot_notebook": {
     "kernelName": "csharp"
    }
   },
   "outputs": [
    {
     "name": "stdout",
     "output_type": "stream",
     "text": [
      "Название фильма: Нечто, Режиссер: Джон Карпентер, Год выпуска: 1982\n",
      "Фильм Нечто, просмотрен.\n",
      "На сколько оцените Нечто?\n",
      "\n",
      "Название фильма: Земля: Биография планеты, Режиссер: National Geographic, Год выпуска: 2011\n",
      "Фильм Земля: Биография планеты, по тематике Астрономия, Биология, Физика, просмотрен.\n",
      "\n",
      "Название фильма: Операция Ы, Режиссер: Леонид Гайдай, Год выпуска: 1965\n",
      "Фильм Операция Ы, из жанра Комедия, просмотрен.\n",
      "\n",
      "Название фильма: История игрушек, Режиссер: Джон Лассетер, Анимационная студия: Pixar Год выпуска: 1995\n"
     ]
    }
   ],
   "source": [
    "public class Movie\n",
    "{\n",
    "    public string Title;\n",
    "    public string Director;\n",
    "    public int ReleaseYear;\n",
    "\n",
    "    public virtual string GetInfo()\n",
    "    {\n",
    "        return $\"Название фильма: {Title}, Режиссер: {Director}, Год выпуска: {ReleaseYear}\";\n",
    "    }\n",
    "    public virtual void Wath()\n",
    "    {\n",
    "        Console.WriteLine($\"Фильм {Title}, просмотрен.\");\n",
    "    }\n",
    "    public virtual void Rate()\n",
    "    {\n",
    "        Console.WriteLine($\"На сколько оцените {Title}?\");\n",
    "    }\n",
    "}\n",
    "public class Documentary: Movie\n",
    "{\n",
    "    public string Theme;\n",
    "\n",
    "    public override void Wath()\n",
    "    {\n",
    "        Console.WriteLine($\"Фильм {Title}, по тематике {Theme}, просмотрен.\");\n",
    "    }\n",
    "}\n",
    "public class Feature: Movie\n",
    "{\n",
    "    public string Genre;\n",
    "\n",
    "    public override void Rate()\n",
    "    {\n",
    "        Console.WriteLine($\"Фильм {Title}, из жанра {Genre}, просмотрен.\");\n",
    "    }\n",
    "}\n",
    "public class Animated: Movie\n",
    "{\n",
    "    public string AnimationStudio;\n",
    "\n",
    "    public override string GetInfo()\n",
    "    {\n",
    "        return $\"Название фильма: {Title}, Режиссер: {Director}, Анимационная студия: {AnimationStudio} Год выпуска: {ReleaseYear}\";\n",
    "    }\n",
    "}\n",
    "\n",
    "Movie TheThing = new Movie();\n",
    "TheThing.Title = \"Нечто\";\n",
    "TheThing.Director = \"Джон Карпентер\";\n",
    "TheThing.ReleaseYear = 1982;\n",
    "Console.WriteLine(TheThing.GetInfo());\n",
    "TheThing.Wath();\n",
    "TheThing.Rate();\n",
    "\n",
    "Console.WriteLine(\"\");\n",
    "\n",
    "Documentary Earth = new Documentary();\n",
    "Earth.Title = \"Земля: Биография планеты\";\n",
    "Earth.Director = \"National Geographic\";\n",
    "Earth.ReleaseYear = 2011;\n",
    "Earth.Theme = \"Астрономия, Биология, Физика\";\n",
    "Console.WriteLine(Earth.GetInfo());\n",
    "Earth.Wath();\n",
    "\n",
    "Console.WriteLine(\"\");\n",
    "\n",
    "Feature OperatonY = new Feature();\n",
    "OperatonY.Title = \"Операция Ы\";\n",
    "OperatonY.Director = \"Леонид Гайдай\";\n",
    "OperatonY.ReleaseYear = 1965;\n",
    "OperatonY.Genre = \"Комедия\";\n",
    "Console.WriteLine(OperatonY.GetInfo());\n",
    "OperatonY.Rate();\n",
    "\n",
    "Console.WriteLine(\"\");\n",
    "\n",
    "Animated ToyStory = new Animated();\n",
    "ToyStory.Title = \"История игрушек\";\n",
    "ToyStory.Director = \"Джон Лассетер\";\n",
    "ToyStory.AnimationStudio = \"Pixar\";\n",
    "ToyStory.ReleaseYear = 1995;\n",
    "Console.WriteLine(ToyStory.GetInfo());"
   ]
  }
 ],
 "metadata": {
  "kernelspec": {
   "display_name": ".NET (C#)",
   "language": "C#",
   "name": ".net-csharp"
  },
  "polyglot_notebook": {
   "kernelInfo": {
    "defaultKernelName": "csharp",
    "items": [
     {
      "aliases": [],
      "languageName": "csharp",
      "name": "csharp"
     }
    ]
   }
  }
 },
 "nbformat": 4,
 "nbformat_minor": 2
}
