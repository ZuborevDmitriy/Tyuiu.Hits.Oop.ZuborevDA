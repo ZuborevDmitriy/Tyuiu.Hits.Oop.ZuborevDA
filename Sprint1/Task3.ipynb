{
 "cells": [
  {
   "cell_type": "markdown",
   "metadata": {},
   "source": [
    "<h1 style=\"color:DodgerBlue\">Индивидальный проект</h1>"
   ]
  },
  {
   "cell_type": "markdown",
   "metadata": {},
   "source": [
    "<h2 style=\"color:DodgerBlue\">Название проекта:</h2>\n",
    "\n",
    "----\n",
    "\n",
    "### Вариант задания 6\n"
   ]
  },
  {
   "cell_type": "markdown",
   "metadata": {},
   "source": [
    "<h2 style=\"color:DodgerBlue\">Описание проекта:</h2>\n",
    "\n",
    "----\n",
    "\n",
    "Описание задачи:\n",
    "Создать базовый класс Movie в C#, который будет представлять информацию о\n",
    "фильмах. На основе этого класса разработать 2-3 производных класса,\n",
    "демонстрирующих принципы наследования и полиморфизма. В каждом из классов\n",
    "должны быть реализованы новые атрибуты и методы, а также переопределены\n",
    "некоторые методы базового класса для демонстрации полиморфизма.\n",
    "Требования к базовому классу Movie:\n",
    "• Атрибуты: Название (Title), Режиссер (Director), Год выпуска (ReleaseYear).\n",
    "• Методы:\n",
    "GetInfo(): метод для получения информации о фильме в виде строки.\n",
    "Watch(): метод для вывода сообщения о просмотре фильма.\n",
    "Rate(): метод для оценки фильма.\n",
    "Требования к производным классам:\n",
    "1. Документальный фильм (Documentary): Должен содержать дополнительные\n",
    "атрибуты, такие как Тематика (Theme). Метод Watch() должен быть\n",
    "переопределен для добавления информации о тематике при просмотре\n",
    "документального фильма.\n",
    "2. Игровой фильм (FeatureFilm): Должен содержать дополнительные атрибуты,\n",
    "такие как Жанр (Genre). Метод Rate() должен быть переопределен для\n",
    "добавления логики оценки в зависимости от жанра.\n",
    "3. Анимационный фильм (AnimatedMovie) (если требуется третий класс):\n",
    "Должен содержать дополнительные атрибуты, такие как Студия анимации\n",
    "(AnimationStudio). Метод GetInfo() должен быть переопределен для\n",
    "включения информации о студии анимации в описании фильма.\n",
    "\n",
    "#### Дополнительное задание\n",
    "Добавьте к сущестующим классам конструктора классов с использованием гетторов и сетторов и реализуйте взаимодействие объектов между собой"
   ]
  },
  {
   "cell_type": "markdown",
   "metadata": {},
   "source": [
    "<h2 style=\"color:DodgerBlue\">Реализация:</h2>\n",
    "\n",
    "----"
   ]
  },
  {
   "cell_type": "code",
   "execution_count": 4,
   "metadata": {
    "dotnet_interactive": {
     "language": "csharp"
    },
    "polyglot_notebook": {
     "kernelName": "csharp"
    }
   },
   "outputs": [
    {
     "name": "stdout",
     "output_type": "stream",
     "text": [
      "Название фильма: Нечто, Режиссер: Джон Карпентер, Год выпуска: 1982\n",
      "Фильм Нечто, просмотрен.\n",
      "На сколько оцените Нечто?\n",
      "\n",
      "Название фильма: Земля: Биография планеты, Режиссер: National Geographic, Год выпуска: 2011\n",
      "Фильм Земля: Биография планеты, по тематике Астрономия, Биология, Физика, просмотрен.\n",
      "\n",
      "Название фильма: Операция Ы, Режиссер: Леонид Гайдай, Год выпуска: 1965\n",
      "Фильм Операция Ы, из жанра Комедия, просмотрен.\n",
      "\n",
      "Название фильма: История игрушек, Режиссер: Джон Лассетер, Анимационная студия: Pixar Год выпуска: 1995\n"
     ]
    }
   ],
   "source": [
    "public class Movie\n",
    "{\n",
    "    public string Title {get; set;}\n",
    "    public string Director {get; set;}\n",
    "    public int ReleaseYear {get; set;}\n",
    "\n",
    "    public Movie(string title, string director, int release)\n",
    "    {\n",
    "        Title = title;\n",
    "        Director = director;\n",
    "        ReleaseYear = release;\n",
    "    }\n",
    "\n",
    "    public virtual string GetInfo()\n",
    "    {\n",
    "        return $\"Название фильма: {Title}, Режиссер: {Director}, Год выпуска: {ReleaseYear}\";\n",
    "    }\n",
    "    public virtual void Wath()\n",
    "    {\n",
    "        Console.WriteLine($\"Фильм {Title}, просмотрен.\");\n",
    "    }\n",
    "    public virtual void Rate()\n",
    "    {\n",
    "        Console.WriteLine($\"На сколько оцените {Title}?\");\n",
    "    }\n",
    "}\n",
    "public class Documentary: Movie\n",
    "{\n",
    "    private string Theme;\n",
    "\n",
    "    public Documentary(string title, string director, int release, string theme) : base(title, director, release)\n",
    "    {\n",
    "        Theme = theme;\n",
    "    }\n",
    "\n",
    "    public override void Wath()\n",
    "    {\n",
    "        Console.WriteLine($\"Фильм {Title}, по тематике {Theme}, просмотрен.\");\n",
    "    }\n",
    "}\n",
    "public class Feature: Movie\n",
    "{\n",
    "    private string Genre;\n",
    "\n",
    "    public Feature(string title, string director, int release, string genre) : base(title, director, release)\n",
    "    {\n",
    "        Genre = genre;\n",
    "    }\n",
    "\n",
    "    public override void Rate()\n",
    "    {\n",
    "        Console.WriteLine($\"Фильм {Title}, из жанра {Genre}, просмотрен.\");\n",
    "    }\n",
    "}\n",
    "public class Animated: Movie\n",
    "{\n",
    "    private string AnimationStudio;\n",
    "\n",
    "    public Animated(string title, string director, int release, string animationstudio) : base(title, director, release)\n",
    "    {\n",
    "        AnimationStudio = animationstudio;\n",
    "    }\n",
    "\n",
    "    public override string GetInfo()\n",
    "    {\n",
    "        return $\"Название фильма: {Title}, Режиссер: {Director}, Анимационная студия: {AnimationStudio} Год выпуска: {ReleaseYear}\";\n",
    "    }\n",
    "}\n",
    "\n",
    "Movie TheThing = new Movie(\"Нечто\", \"Джон Карпентер\", 1982);\n",
    "Console.WriteLine(TheThing.GetInfo());\n",
    "TheThing.Wath();\n",
    "TheThing.Rate();\n",
    "\n",
    "Console.WriteLine(\"\");\n",
    "\n",
    "Documentary Earth = new Documentary(\"Земля: Биография планеты\", \"National Geographic\", 2011, \"Астрономия, Биология, Физика\");\n",
    "Console.WriteLine(Earth.GetInfo());\n",
    "Earth.Wath();\n",
    "\n",
    "Console.WriteLine(\"\");\n",
    "\n",
    "Feature OperatonY = new Feature(\"Операция Ы\", \"Леонид Гайдай\", 1965, \"Комедия\");\n",
    "Console.WriteLine(OperatonY.GetInfo());\n",
    "OperatonY.Rate();\n",
    "\n",
    "Console.WriteLine(\"\");\n",
    "\n",
    "Animated ToyStory = new Animated(\"История игрушек\", \"Джон Лассетер\", 1995, \"Pixar\");\n",
    "Console.WriteLine(ToyStory.GetInfo());"
   ]
  }
 ],
 "metadata": {
  "kernelspec": {
   "display_name": ".NET (C#)",
   "language": "C#",
   "name": ".net-csharp"
  },
  "polyglot_notebook": {
   "kernelInfo": {
    "defaultKernelName": "csharp",
    "items": [
     {
      "aliases": [],
      "languageName": "csharp",
      "name": "csharp"
     }
    ]
   }
  }
 },
 "nbformat": 4,
 "nbformat_minor": 2
}
